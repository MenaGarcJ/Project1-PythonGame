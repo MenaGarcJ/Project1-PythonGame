{
  "nbformat": 4,
  "nbformat_minor": 0,
  "metadata": {
    "colab": {
      "name": "Untitled1.ipynb",
      "provenance": [],
      "collapsed_sections": [],
      "include_colab_link": true
    },
    "kernelspec": {
      "name": "python3",
      "display_name": "Python 3"
    },
    "language_info": {
      "name": "python"
    }
  },
  "cells": [
    {
      "cell_type": "markdown",
      "metadata": {
        "id": "view-in-github",
        "colab_type": "text"
      },
      "source": [
        "<a href=\"https://colab.research.google.com/github/MenaGarcJ/Project1-PythonGame/blob/main/Hangman.ipynb\" target=\"_parent\"><img src=\"https://colab.research.google.com/assets/colab-badge.svg\" alt=\"Open In Colab\"/></a>"
      ]
    },
    {
      "cell_type": "code",
      "metadata": {
        "id": "UY6oE6xqFiA5"
      },
      "source": [
        "##bienvenido"
      ],
      "execution_count": null,
      "outputs": []
    },
    {
      "cell_type": "code",
      "metadata": {
        "id": "ZKz_Y1DuMz-X"
      },
      "source": [
        ""
      ],
      "execution_count": null,
      "outputs": []
    },
    {
      "cell_type": "code",
      "metadata": {
        "id": "w_1kppxhFtwe"
      },
      "source": [
        "import random\n",
        "\n",
        "fiction_characters = ['Anakin','Frodo','Sam','Obiwan','Aragon','Legolas','Batman','Flash','IronMan','Thor','Rocket'\n",
        "             , 'Spiderman','Thanos','Loki','Vision','QuickSilver','Ultron','Robin','Aquaman','Antman','Groot']\n",
        "\n",
        "def get_word():\n",
        "    word = random.choice(fiction_characters)\n",
        "    return word.upper() # Se utilizará el método upper para poder validar \n",
        "\n",
        "def play(word):\n",
        "    word_completion = '_' * len(word) # Calculará el número de espacios multiplicando el caractér por la longitud de la palabra\n",
        "    guessed = False # Servirá para poder inicializar el juego y servirá como condicional \n",
        "    guessed_letters = [] # Guardará las letras que se vayan adivinando\n",
        "    guessed_words = [] # Guardará las palabras que se vayan adivinando\n",
        "    tries = 6 # Cada intento corresponderá a las partes del cuerpo del kemonito\n",
        "    \n",
        "    # Se desplegará el mensaje de bienvenida y las instrucciones\n",
        "    print('¡Bienvenido IronHacker! ¡Juguémos ahorcado!')\n",
        "    print('\\n')\n",
        "    print('''\n",
        "    Instrucciones: Deberás completar la palabra antes de agotar tus intentos. \\n\n",
        "    Tendrás un total de 6 intentos y las palabras tienen el nombre de diversos personajes ficticios. \\n\n",
        "    Finalmente, los intentos podrán ser por letra o bien, directamente la palabra. \\n\n",
        "    Los fallos se contabilizarán igual. \n",
        "    ''')\n",
        "    print('\\n') \n",
        "    while not guessed and tries > 0: # Este while correrá el juego mientras guessed sea false y tries mayor a 0\n",
        "      guess = input(\"Ingresa la letra o palabra: \").upper()\n",
        "      if len(guess) == 1 and guess.isalpha():\n",
        "        if guess in guessed_letters: # Aquí busca si el guess se encuentra ya dentro de la lista de letras \n",
        "          print(\"Ya has adivinado esta letra.\", guess)\n",
        "        elif guess not in word: # En caso de que no, este elif le restará un intento e imprimirá el mensaje de fallo\n",
        "          print('Opps', guess, 'no se encuentra dentro de la palabra.')\n",
        "          tires -= 1\n",
        "          guess_letters.append(guess) # Al final se agregará la letra adivinada a la lista vacía de guessed_letters\n",
        "        else:\n",
        "          print('Buen trabajo', guess, 'está dentro de la palabra!')\n",
        "          guess_letters.append(guess) # Se agregará la letra adivinada a la lista vacía de guessed_letters\n",
        "          word_as_list = list(word_completion)\n",
        "          indices = [i for i, letter in enumerate(word) if letter == guess]\n",
        "          for index in indices:\n",
        "            word_as_list[index] = guess\n",
        "          word_completion = ''.join(word_as_list)\n"
      ],
      "execution_count": null,
      "outputs": []
    },
    {
      "cell_type": "code",
      "metadata": {
        "id": "aVWz3SshHqj2"
      },
      "source": [
        "def display_hangman(tries):\n",
        "    stages = [  # Ya estas muerto: cabeza, torso, y todas las extremidades\n",
        "                \"\"\"\n",
        "                   --------\n",
        "                   |      |\n",
        "                   |      O\n",
        "                   |     \\\\|/\n",
        "                   |      |\n",
        "                   |     / \\\\\n",
        "                   -\n",
        "                \"\"\",\n",
        "                # cabeza, torso, ambos brazos y una pierna\n",
        "                \"\"\"\n",
        "                   --------\n",
        "                   |      |\n",
        "                   |      O\n",
        "                   |     \\\\|/\n",
        "                   |      |\n",
        "                   |     / \n",
        "                   -\n",
        "                \"\"\",\n",
        "                # cabeza, torso, y ambos brazos\n",
        "                \"\"\"\n",
        "                   --------\n",
        "                   |      |\n",
        "                   |      O\n",
        "                   |     \\\\|/\n",
        "                   |      |\n",
        "                   |      \n",
        "                   -\n",
        "                \"\"\",\n",
        "                # cabeza, torso y un brazo\n",
        "                \"\"\"\n",
        "                   --------\n",
        "                   |      |\n",
        "                   |      O\n",
        "                   |     \\\\|\n",
        "                   |      |\n",
        "                   |     \n",
        "                   -\n",
        "                \"\"\",\n",
        "                # cabeza y torso\n",
        "                \"\"\"\n",
        "                   --------\n",
        "                   |      |\n",
        "                   |      O\n",
        "                   |      |\n",
        "                   |      |\n",
        "                   |     \n",
        "                   -\n",
        "                \"\"\",\n",
        "                # cabeza\n",
        "                \"\"\"\n",
        "                   --------\n",
        "                   |      |\n",
        "                   |      O\n",
        "                   |    \n",
        "                   |      \n",
        "                   |     \n",
        "                   -\n",
        "                \"\"\",\n",
        "                # Estado inicial\n",
        "                \"\"\"\n",
        "                   --------\n",
        "                   |      |\n",
        "                   |      \n",
        "                   |    \n",
        "                   |      \n",
        "                   |     \n",
        "                   -\n",
        "                \"\"\"\n",
        "    ]\n",
        "    return stages[tries]"
      ],
      "execution_count": null,
      "outputs": []
    },
    {
      "cell_type": "code",
      "metadata": {
        "id": "WJQOe1ViMrxe"
      },
      "source": [
        "def main():\n",
        "    word = get_word()\n",
        "    play(word)\n",
        "    while input(\"O (S/N) \").upper() == \"S\":\n",
        "        word = get_word()\n",
        "        play(word)\n",
        "\n",
        "\n",
        "if __name__ == \"__main__\":\n",
        "    main()"
      ],
      "execution_count": null,
      "outputs": []
    }
  ]
}